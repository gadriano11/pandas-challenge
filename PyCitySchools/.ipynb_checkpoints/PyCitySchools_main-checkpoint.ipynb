{
 "cells": [
  {
   "cell_type": "markdown",
   "metadata": {},
   "source": [
    "### Note\n",
    "* Instructions have been included for each segment. You do not have to follow them exactly, but they are included to help you think through the steps."
   ]
  },
  {
   "cell_type": "code",
   "execution_count": null,
   "metadata": {},
   "outputs": [],
   "source": [
    "# Dependencies and Setup\n",
    "import pandas as pd\n",
    "from pathlib import Path\n",
    "\n",
    "# File to Load (Remember to Change These)\n",
    "school_data_to_load = Path(\"Resources/schools_complete.csv\")\n",
    "student_data_to_load = Path(\"Resources/students_complete.csv\")\n",
    "\n",
    "# Read School and Student Data File and store into Pandas DataFrames\n",
    "school_data = pd.read_csv(school_data_to_load)\n",
    "student_data = pd.read_csv(student_data_to_load)\n",
    "\n",
    "# Combine the data into a single dataset.  \n",
    "school_data_complete = pd.merge(student_data, school_data, how=\"left\", on=[\"school_name\", \"school_name\"])\n",
    "school_data_complete.head()"
   ]
  },
  {
   "cell_type": "markdown",
   "metadata": {},
   "source": [
    "## Local Government Area Summary\n",
    "\n",
    "* Calculate the total number of schools\n",
    "\n",
    "* Calculate the total number of students\n",
    "\n",
    "* Calculate the total budget\n",
    "\n",
    "* Calculate the average maths score \n",
    "\n",
    "* Calculate the average reading score\n",
    "\n",
    "* Calculate the percentage of students with a passing maths score (50 or greater)\n",
    "\n",
    "* Calculate the percentage of students with a passing reading score (50 or greater)\n",
    "\n",
    "* Calculate the percentage of students who passed maths **and** reading (% Overall Passing)\n",
    "\n",
    "* Create a dataframe to hold the above results\n",
    "\n",
    "* Optional: give the displayed data cleaner formatting"
   ]
  },
  {
   "cell_type": "code",
   "execution_count": null,
   "metadata": {},
   "outputs": [],
   "source": [
    "# Local Government Area (LGA) Summary\n",
    "# Perform the necessary calculations and then create a high-level snapshot of the local government area's \n",
    "# key metrics in a DataFrame.\n",
    "\n",
    "# Total number of unique schools\n",
    "total_number_schools = school_data_complete['school_name'].nunique()\n",
    "\n",
    "# Total students\n",
    "total_students = school_data_complete['Student ID'].nunique()\n",
    "\n",
    "# Total budget\n",
    "total_budget = school_data['budget'].sum()\n",
    "\n",
    "# Average maths score\n",
    "average_maths_score = school_data_complete['maths_score'].mean()\n",
    "\n",
    "# Average reading score\n",
    "average_reading_score = school_data_complete['reading_score'].mean()\n",
    "\n",
    "# % passing maths (the percentage of students who passed maths)\n",
    "passing_maths_percentage = (school_data_complete['maths_score'] >= 50).mean() * 100\n",
    "\n",
    "# % passing reading (the percentage of students who passed reading)\n",
    "passing_reading_percentage = (school_data_complete['reading_score'] >= 50).mean() * 100\n",
    "\n",
    "# % overall passing (the percentage of students who passed maths AND reading)\n",
    "# Note: A passing grade is 50 or higher.\n",
    "passing_both_percentage = ((school_data_complete['maths_score'] >= 50) & (school_data_complete['reading_score'] >= 50)).mean() * 100\n",
    "\n",
    "# Summary\n",
    "area_summary = pd.DataFrame({\n",
    "    'Total Schools': [total_number_schools],\n",
    "    'Total Students': [total_students],\n",
    "    'Total Budget': [total_budget],\n",
    "    'Average Maths Score': [average_maths_score],\n",
    "    'Average Reading Score': [average_reading_score],\n",
    "    '% Passing Maths': [passing_maths_percentage],\n",
    "    '% Passing Reading': [passing_reading_percentage],\n",
    "    '% Overall Passing': [passing_both_percentage]\n",
    "})\n",
    "\n",
    "# Column formatting\n",
    "area_summary['Total Students'] = area_summary['Total Students'].map(\"{:,}\".format)\n",
    "area_summary['Total Budget'] = area_summary['Total Budget'].map(\"${:,.2f}\".format)\n",
    "area_summary['Average Maths Score'] = area_summary['Average Maths Score'].map(\"{:,.2f}\".format)\n",
    "area_summary['Average Reading Score'] = area_summary['Average Reading Score'].map(\"{:,.2f}\".format)\n",
    "area_summary['% Passing Maths'] = area_summary['% Passing Maths'].map(\"{:,.2f}%\".format)\n",
    "area_summary['% Passing Reading'] = area_summary['% Passing Reading'].map(\"{:,.2f}%\".format)\n",
    "area_summary['% Overall Passing'] = area_summary['% Overall Passing'].map(\"{:,.2f}%\".format)\n",
    "\n",
    "area_summary"
   ]
  },
  {
   "cell_type": "markdown",
   "metadata": {},
   "source": [
    "## School Summary"
   ]
  },
  {
   "cell_type": "markdown",
   "metadata": {},
   "source": [
    "* Create an overview table that summarises key metrics about each school, including:\n",
    "  * School Name\n",
    "  * School Type\n",
    "  * Total Students\n",
    "  * Total School Budget\n",
    "  * Per Student Budget\n",
    "  * Average Maths Score\n",
    "  * Average Reading Score\n",
    "  * % Passing Maths\n",
    "  * % Passing Reading\n",
    "  * % Overall Passing (The percentage of students that passed maths **and** reading.)\n",
    "  \n",
    "* Create a dataframe to hold the above results"
   ]
  },
  {
   "cell_type": "code",
   "execution_count": null,
   "metadata": {},
   "outputs": [],
   "source": [
    "# Create an overview table that summarises key metrics about each school, including: School Name, School Type, Total Students, \n",
    "# Total School Budget, Per Student Budget, Average Maths Score, Average Reading Score, % Passing Maths, % Passing Reading\n",
    "# % Overall Passing (The percentage of students that passed maths and reading.)\n",
    "\n",
    "\n",
    "# School type\n",
    "per_school_types = school_data.set_index([\"school_name\"])[\"type\"]\n",
    "# Total student count for each school - OK\n",
    "per_school_total = school_data.set_index([\"school_name\"])[\"size\"]\n",
    "\n",
    "\n",
    "# Total budget for each school\n",
    "per_school_budget= school_data.groupby('school_name')['budget'].sum()\n",
    "\n",
    "\n",
    "# Total budget per student\n",
    "per_student_budget = per_school_budget / per_school_total\n",
    "\n",
    "# Average test scores for each school\n",
    "per_school_maths = school_data_complete.groupby('school_name')['maths_score'].mean()\n",
    "per_school_reading = school_data_complete.groupby('school_name')['reading_score'].mean()\n",
    "\n",
    "# Count of maths scores of 50 or higher\n",
    "per_school_pass_maths = school_data_complete[school_data_complete['maths_score'] >= 50].groupby('school_name')['school_name'].count()\n",
    "\n",
    "# Count of reading scores of 50 or higher\n",
    "per_school_pass_reading = school_data_complete[school_data_complete['reading_score'] >= 50].groupby('school_name')['school_name'].count()\n",
    "\n",
    "# Count both maths and reading with scores of 50 or higher\n",
    "per_school_pass_both = school_data_complete[(school_data_complete['maths_score'] >= 50) & (school_data_complete['reading_score'] >= 50)].groupby('school_name')['school_name'].count()\n",
    "\n",
    "# Passing rate\n",
    "percent_pass_maths = (per_school_pass_maths / per_school_total)*100\n",
    "percent_pass_reading = (per_school_pass_reading / per_school_total)*100\n",
    "percent_pass_overall = (per_school_pass_both / per_school_total)*100\n",
    "\n",
    "# New dictionary to hold the data\n",
    "per_school_summary = {\n",
    "    \"School Type\": per_school_types,\n",
    "    \"Total Students\": per_school_total,\n",
    "    \"Total School Budget\": per_school_budget,\n",
    "   \"Per Student Budget\": per_student_budget,\n",
    "    \"Average Maths Score\": per_school_maths,\n",
    "    \"Average Reading Score\": per_school_reading,\n",
    "    \"% Passing Maths\": percent_pass_maths,\n",
    "    \"% Passing Reading\": percent_pass_reading,\n",
    "    \"% Overall Passing\": percent_pass_overall}\n",
    "\n",
    "# Create new df\n",
    "per_school_summary_df = pd.DataFrame(per_school_summary)\n",
    "per_school_summary_df = per_school_summary_df.reset_index()\n",
    "per_school_summary_df = per_school_summary_df.set_index(\"school_name\")\n",
    "per_school_summary_df.rename_axis(index={'school_name': None}, inplace=True)\n",
    "\n",
    "# Had to do this as there were issues with str + int below\n",
    "per_school_summary_df\n",
    "formatted_per_school_summary_df = per_school_summary_df.copy()\n",
    "\n",
    "# Column formatting\n",
    "formatted_per_school_summary_df['Total Students'] = formatted_per_school_summary_df['Total Students'].map(\"{:,}\".format)\n",
    "formatted_per_school_summary_df['Total School Budget'] = formatted_per_school_summary_df['Total School Budget'].map(\"${:,.2f}\".format)\n",
    "formatted_per_school_summary_df['Per Student Budget'] = formatted_per_school_summary_df['Per Student Budget'].map(\"${:,.2f}\".format)\n",
    "formatted_per_school_summary_df['Average Maths Score'] = formatted_per_school_summary_df['Average Maths Score'].map(\"{:.2f}\".format)\n",
    "formatted_per_school_summary_df['Average Reading Score'] = formatted_per_school_summary_df['Average Reading Score'].map(\"{:.2f}\".format)\n",
    "formatted_per_school_summary_df['% Passing Maths'] = formatted_per_school_summary_df['% Passing Maths'].map(\"{:.2f}%\".format)\n",
    "formatted_per_school_summary_df['% Passing Reading'] = formatted_per_school_summary_df['% Passing Reading'].map(\"{:.2f}%\".format)\n",
    "formatted_per_school_summary_df['% Overall Passing'] = formatted_per_school_summary_df['% Overall Passing'].map(\"{:.2f}%\".format)\n",
    "formatted_per_school_summary_df\n"
   ]
  },
  {
   "cell_type": "markdown",
   "metadata": {},
   "source": [
    "## Top Performing Schools (By % Overall Passing)"
   ]
  },
  {
   "cell_type": "markdown",
   "metadata": {},
   "source": [
    "* Sort and display the top five performing schools by % overall passing."
   ]
  },
  {
   "cell_type": "code",
   "execution_count": null,
   "metadata": {
    "scrolled": true
   },
   "outputs": [],
   "source": [
    "# Display the top five performing schools by % overall passing.\n",
    "top_schools = per_school_summary_df.sort_values('% Overall Passing', ascending=False)\n",
    "\n",
    "# Column formatting\n",
    "top_schools['Total Students'] = top_schools['Total Students'].map(\"{:,}\".format)\n",
    "top_schools['Total School Budget'] = top_schools['Total School Budget'].map(\"${:,.2f}\".format)\n",
    "top_schools['Per Student Budget'] = top_schools['Per Student Budget'].map(\"${:,.2f}\".format)\n",
    "top_schools['Average Maths Score'] = top_schools['Average Maths Score'].map(\"{:.2f}\".format)\n",
    "top_schools['Average Reading Score'] = top_schools['Average Reading Score'].map(\"{:.2f}\".format)\n",
    "top_schools['% Passing Maths'] = top_schools['% Passing Maths'].map(\"{:.2f}%\".format)\n",
    "top_schools['% Passing Reading'] = top_schools['% Passing Reading'].map(\"{:.2f}%\".format)\n",
    "top_schools['% Overall Passing'] = top_schools['% Overall Passing'].map(\"{:.2f}%\".format)\n",
    "top_schools.head(5)"
   ]
  },
  {
   "cell_type": "markdown",
   "metadata": {},
   "source": [
    "## Bottom Performing Schools (By % Overall Passing)"
   ]
  },
  {
   "cell_type": "markdown",
   "metadata": {},
   "source": [
    "* Sort and display the five worst-performing schools by % overall passing."
   ]
  },
  {
   "cell_type": "code",
   "execution_count": null,
   "metadata": {},
   "outputs": [],
   "source": [
    "# Display the five worst-performing schools by % overall passing.\n",
    "bottom_schools = per_school_summary_df.sort_values('% Overall Passing', ascending=True)\n",
    "\n",
    "# Column formatting\n",
    "bottom_schools['Total Students'] = bottom_schools['Total Students'].map(\"{:,}\".format)\n",
    "bottom_schools['Total School Budget'] = bottom_schools['Total School Budget'].map(\"${:,.2f}\".format)\n",
    "bottom_schools['Per Student Budget'] = bottom_schools['Per Student Budget'].map(\"${:,.2f}\".format)\n",
    "bottom_schools['Average Maths Score'] = bottom_schools['Average Maths Score'].map(\"{:.2f}\".format)\n",
    "bottom_schools['Average Reading Score'] = bottom_schools['Average Reading Score'].map(\"{:.2f}\".format)\n",
    "bottom_schools['% Passing Maths'] = bottom_schools['% Passing Maths'].map(\"{:.2f}%\".format)\n",
    "bottom_schools['% Passing Reading'] = bottom_schools['% Passing Reading'].map(\"{:.2f}%\".format)\n",
    "bottom_schools['% Overall Passing'] = bottom_schools['% Overall Passing'].map(\"{:.2f}%\".format)\n",
    "\n",
    "bottom_schools.head(5)\n",
    "\n",
    "\n"
   ]
  },
  {
   "cell_type": "markdown",
   "metadata": {
    "collapsed": true
   },
   "source": [
    "## Maths Scores by Year"
   ]
  },
  {
   "cell_type": "markdown",
   "metadata": {},
   "source": [
    "* Create a table that lists the average maths score for students of each year level (9, 10, 11, 12) at each school.\n",
    "\n",
    "  * Create a pandas series for each year. Hint: use a conditional statement.\n",
    "  \n",
    "  * Group each series by school\n",
    "  \n",
    "  * Combine the series into a dataframe\n",
    "  \n",
    "  * Optional: give the displayed data cleaner formatting"
   ]
  },
  {
   "cell_type": "code",
   "execution_count": null,
   "metadata": {},
   "outputs": [],
   "source": [
    "# List for year levels\n",
    "year_levels = [9, 10, 11, 12]\n",
    "\n",
    "# Empty Dictionary\n",
    "maths_scores_by_year = {}\n",
    "\n",
    "# Use for loop to calculate average maths score for each year and school\n",
    "for year in year_levels:\n",
    "    year_maths_scores = school_data_complete[school_data_complete['year'] == year].groupby('school_name')['maths_score'].mean()\n",
    "    maths_scores_by_year[f'Year {year}'] = year_maths_scores\n",
    "\n",
    "# Create a dataframe\n",
    "maths_scores_by_year = pd.DataFrame(maths_scores_by_year)\n",
    "maths_scores_by_year = maths_scores_by_year.reset_index()\n",
    "maths_scores_by_year = maths_scores_by_year.set_index('school_name')\n",
    "maths_scores_by_year.rename_axis(index={'school_name': None}, inplace = True)\n",
    "maths_scores_by_year\n",
    "\n",
    "# Column formatting\n",
    "maths_scores_by_year[\"Year 9\"] = maths_scores_by_year[\"Year 9\"].map(\"{:.2f}\".format)\n",
    "maths_scores_by_year[\"Year 10\"] = maths_scores_by_year[\"Year 10\"].map(\"{:.2f}\".format)\n",
    "maths_scores_by_year[\"Year 11\"] = maths_scores_by_year[\"Year 11\"].map(\"{:.2f}\".format)\n",
    "maths_scores_by_year[\"Year 12\"] = maths_scores_by_year[\"Year 12\"].map(\"{:.2f}\".format)\n",
    "maths_scores_by_year"
   ]
  },
  {
   "cell_type": "markdown",
   "metadata": {},
   "source": [
    "## Reading Score by Year"
   ]
  },
  {
   "cell_type": "markdown",
   "metadata": {},
   "source": [
    "* Perform the same operations as above for reading scores"
   ]
  },
  {
   "cell_type": "code",
   "execution_count": null,
   "metadata": {},
   "outputs": [],
   "source": [
    "# Reusing year_levels = [9, 10, 11, 12] from above\n",
    "# Empty Dictionary\n",
    "reading_scores_by_year = {}\n",
    "\n",
    "# Use for loop to calculate average maths score for each year and school\n",
    "for year in year_levels:\n",
    "    year_reading_scores = school_data_complete[school_data_complete['year'] == year].groupby('school_name')['reading_score'].mean()\n",
    "    reading_scores_by_year[f'Year {year}'] = year_reading_scores\n",
    "\n",
    "# Create a dataframe\n",
    "reading_scores_by_year = pd.DataFrame(reading_scores_by_year)\n",
    "reading_scores_by_year = reading_scores_by_year.reset_index()\n",
    "reading_scores_by_year = reading_scores_by_year.set_index('school_name')\n",
    "reading_scores_by_year.rename_axis(index={'school_name': None}, inplace = True)\n",
    "reading_scores_by_year\n",
    "\n",
    "# Column formatting\n",
    "reading_scores_by_year[\"Year 9\"] = reading_scores_by_year[\"Year 9\"].map(\"{:.2f}\".format)\n",
    "reading_scores_by_year[\"Year 10\"] = reading_scores_by_year[\"Year 10\"].map(\"{:.2f}\".format)\n",
    "reading_scores_by_year[\"Year 11\"] = reading_scores_by_year[\"Year 11\"].map(\"{:.2f}\".format)\n",
    "reading_scores_by_year[\"Year 12\"] = reading_scores_by_year[\"Year 12\"].map(\"{:.2f}\".format)\n",
    "reading_scores_by_year"
   ]
  },
  {
   "cell_type": "markdown",
   "metadata": {},
   "source": [
    "## Scores by School Spending"
   ]
  },
  {
   "cell_type": "markdown",
   "metadata": {},
   "source": [
    "* Create a table that breaks down school performances based on average Spending Ranges (Per Student). Use 4 reasonable bins to group school spending. Include in the table each of the following:\n",
    "  * Average Maths Score\n",
    "  * Average Reading Score\n",
    "  * % Passing Maths\n",
    "  * % Passing Reading\n",
    "  * Overall Passing Rate (Average of the above two)"
   ]
  },
  {
   "cell_type": "code",
   "execution_count": null,
   "metadata": {
    "scrolled": true
   },
   "outputs": [],
   "source": [
    "# Given bins and labels\n",
    "spending_bins = [0, 585, 630, 645, 680]\n",
    "spending_labels = [\"<$585\", \"$585-630\", \"$630-645\", \"$645-680\"]\n",
    "\n",
    "# Categorise spending based on the bins\n",
    "per_school_summary_df[\"Spending Ranges (Per Student)\"] = pd.cut(per_school_summary_df[\"Per Student Budget\"], spending_bins, labels=spending_labels)\n",
    "\n",
    "# Given formula/calculation. school_spending_df changed to per_school_summary_df as per created variable above.\n",
    "spending_maths_scores = per_school_summary_df.groupby([\"Spending Ranges (Per Student)\"])[\"Average Maths Score\"].mean()\n",
    "spending_reading_scores = per_school_summary_df.groupby([\"Spending Ranges (Per Student)\"])[\"Average Reading Score\"].mean()\n",
    "spending_passing_maths = per_school_summary_df.groupby([\"Spending Ranges (Per Student)\"])[\"% Passing Maths\"].mean()\n",
    "spending_passing_reading = per_school_summary_df.groupby([\"Spending Ranges (Per Student)\"])[\"% Passing Reading\"].mean()\n",
    "overall_passing_spending = per_school_summary_df.groupby([\"Spending Ranges (Per Student)\"])[\"% Overall Passing\"].mean()\n",
    "\n",
    "# Create a dataframe\n",
    "spending_summary = pd.DataFrame({\n",
    "    \"Average Maths Score\": spending_maths_scores,\n",
    "    \"Average Reading Score\": spending_reading_scores,\n",
    "    \"% Passing Maths\": spending_passing_maths,\n",
    "    \"% Passing Reading\": spending_passing_reading,\n",
    "    \"% Overall Passing\": overall_passing_spending\n",
    "})\n",
    "\n",
    "# Column formatting\n",
    "spending_summary[\"Average Maths Score\"] = spending_summary[\"Average Maths Score\"].map(\"{:.2f}\".format)\n",
    "spending_summary[\"Average Reading Score\"] = spending_summary[\"Average Reading Score\"].map(\"{:.2f}\".format)\n",
    "spending_summary[\"% Passing Maths\"] = spending_summary[\"% Passing Maths\"].map(\"{:.2f}%\".format)\n",
    "spending_summary[\"% Passing Reading\"] = spending_summary[\"% Passing Reading\"].map(\"{:.2f}%\".format)\n",
    "spending_summary[\"% Overall Passing\"] = spending_summary[\"% Overall Passing\"].map(\"{:.2f}%\".format)\n",
    "\n",
    "spending_summary.head()"
   ]
  },
  {
   "cell_type": "markdown",
   "metadata": {},
   "source": [
    "## Scores by School Size"
   ]
  },
  {
   "cell_type": "markdown",
   "metadata": {},
   "source": [
    "* Perform the same operations as above, based on school size."
   ]
  },
  {
   "cell_type": "code",
   "execution_count": null,
   "metadata": {
    "scrolled": true
   },
   "outputs": [],
   "source": [
    "# Given bins and labels\n",
    "size_bins = [0, 1000, 2000, 5000]\n",
    "size_labels = [\"Small (<1000)\", \"Medium (1000-2000)\", \"Large (2000-5000)\"]\n",
    "\n",
    "# Categorise school size based on the bins\n",
    "per_school_summary_df[\"School Size\"] = pd.cut(per_school_summary_df[\"Total Students\"], size_bins, labels=size_labels)\n",
    "\n",
    "# Given formula/calculation adapted from above\n",
    "size_maths_scores = per_school_summary_df.groupby([\"School Size\"])[\"Average Maths Score\"].mean()\n",
    "size_reading_scores = per_school_summary_df.groupby([\"School Size\"])[\"Average Reading Score\"].mean()\n",
    "size_passing_maths = per_school_summary_df.groupby([\"School Size\"])[\"% Passing Maths\"].mean()\n",
    "size_passing_reading = per_school_summary_df.groupby([\"School Size\"])[\"% Passing Reading\"].mean()\n",
    "size_overall_passing = per_school_summary_df.groupby([\"School Size\"])[\"% Overall Passing\"].mean()\n",
    "\n",
    "# Create a dataframe\n",
    "size_summary = pd.DataFrame({\n",
    "    \"Average Maths Score\": size_maths_scores,\n",
    "    \"Average Reading Score\": size_reading_scores,\n",
    "    \"% Passing Maths\": size_passing_maths,\n",
    "    \"% Passing Reading\": size_passing_reading,\n",
    "    \"% Overall Passing\": size_overall_passing\n",
    "})\n",
    "\n",
    "# Column formatting\n",
    "# Column formatting\n",
    "size_summary[\"Average Maths Score\"] = size_summary[\"Average Maths Score\"].map(\"{:.2f}\".format)\n",
    "size_summary[\"Average Reading Score\"] = size_summary[\"Average Reading Score\"].map(\"{:.2f}\".format)\n",
    "size_summary[\"% Passing Maths\"] = size_summary[\"% Passing Maths\"].map(\"{:.2f}%\".format)\n",
    "size_summary[\"% Passing Reading\"] = size_summary[\"% Passing Reading\"].map(\"{:.2f}%\".format)\n",
    "size_summary[\"% Overall Passing\"] = size_summary[\"% Overall Passing\"].map(\"{:.2f}%\".format)\n",
    "\n",
    "size_summary.head()"
   ]
  },
  {
   "cell_type": "markdown",
   "metadata": {},
   "source": [
    "## Scores by School Type"
   ]
  },
  {
   "cell_type": "markdown",
   "metadata": {},
   "source": [
    "* Perform the same operations as above, based on school type"
   ]
  },
  {
   "cell_type": "code",
   "execution_count": null,
   "metadata": {},
   "outputs": [],
   "source": [
    "# Given formula/calculation adapted from above\n",
    "type_maths_scores = per_school_summary_df.groupby([\"School Type\"])[\"Average Maths Score\"].mean()\n",
    "type_reading_scores = per_school_summary_df.groupby([\"School Type\"])[\"Average Reading Score\"].mean()\n",
    "type_passing_maths = per_school_summary_df.groupby([\"School Type\"])[\"% Passing Maths\"].mean()\n",
    "type_passing_reading = per_school_summary_df.groupby([\"School Type\"])[\"% Passing Reading\"].mean()\n",
    "type_overall_passing = per_school_summary_df.groupby([\"School Type\"])[\"% Overall Passing\"].mean()\n",
    "\n",
    "# Create a dataframe\n",
    "type_summary = pd.DataFrame({\n",
    "    \"Average Maths Score\": type_maths_scores,\n",
    "    \"Average Reading Score\": type_reading_scores,\n",
    "    \"% Passing Maths\": type_passing_maths,\n",
    "    \"% Passing Reading\": type_passing_reading,\n",
    "    \"% Overall Passing\": type_overall_passing\n",
    "})\n",
    "\n",
    "# Column formatting\n",
    "type_summary[\"Average Maths Score\"] = type_summary[\"Average Maths Score\"].map(\"{:.2f}\".format)\n",
    "type_summary[\"Average Reading Score\"] = type_summary[\"Average Reading Score\"].map(\"{:.2f}\".format)\n",
    "type_summary[\"% Passing Maths\"] = type_summary[\"% Passing Maths\"].map(\"{:.2f}%\".format)\n",
    "type_summary[\"% Passing Reading\"] = type_summary[\"% Passing Reading\"].map(\"{:.2f}%\".format)\n",
    "type_summary[\"% Overall Passing\"] = type_summary[\"% Overall Passing\"].map(\"{:.2f}%\".format)\n",
    "\n",
    "type_summary\n"
   ]
  },
  {
   "cell_type": "code",
   "execution_count": null,
   "metadata": {},
   "outputs": [],
   "source": []
  },
  {
   "cell_type": "code",
   "execution_count": null,
   "metadata": {},
   "outputs": [],
   "source": []
  }
 ],
 "metadata": {
  "anaconda-cloud": {},
  "kernel_info": {
   "name": "python3"
  },
  "kernelspec": {
   "display_name": "Python 3",
   "language": "python",
   "name": "python3"
  },
  "language_info": {
   "codemirror_mode": {
    "name": "ipython",
    "version": 3
   },
   "file_extension": ".py",
   "mimetype": "text/x-python",
   "name": "python",
   "nbconvert_exporter": "python",
   "pygments_lexer": "ipython3",
   "version": "3.11.4"
  },
  "latex_envs": {
   "LaTeX_envs_menu_present": true,
   "autoclose": false,
   "autocomplete": true,
   "bibliofile": "biblio.bib",
   "cite_by": "apalike",
   "current_citInitial": 1,
   "eqLabelWithNumbers": true,
   "eqNumInitial": 1,
   "hotkeys": {
    "equation": "Ctrl-E",
    "itemize": "Ctrl-I"
   },
   "labels_anchors": false,
   "latex_user_defs": false,
   "report_style_numbering": false,
   "user_envs_cfg": false
  },
  "nteract": {
   "version": "0.8.4"
  }
 },
 "nbformat": 4,
 "nbformat_minor": 1
}
